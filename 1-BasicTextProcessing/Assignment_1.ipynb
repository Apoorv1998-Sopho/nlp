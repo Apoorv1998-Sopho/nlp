{
 "cells": [
  {
   "cell_type": "code",
   "execution_count": 35,
   "metadata": {
    "scrolled": false
   },
   "outputs": [
    {
     "name": "stdout",
     "output_type": "stream",
     "text": [
      "[nltk_data] Downloading package punkt to\n",
      "[nltk_data]     C:\\Users\\Cheenu\\AppData\\Roaming\\nltk_data...\n",
      "[nltk_data]   Package punkt is already up-to-date!\n"
     ]
    },
    {
     "data": {
      "text/plain": [
       "True"
      ]
     },
     "execution_count": 35,
     "metadata": {},
     "output_type": "execute_result"
    }
   ],
   "source": [
    "import nltk\n",
    "nltk.download('punkt')"
   ]
  },
  {
   "cell_type": "code",
   "execution_count": 36,
   "metadata": {},
   "outputs": [],
   "source": [
    "from nltk.tokenize import word_tokenize, sent_tokenize\n",
    "from nltk.probability import FreqDist\n",
    "import pandas as pd\n",
    "import matplotlib.pyplot as plt\n",
    "from matplotlib.pyplot import figure\n",
    "from scipy.optimize import curve_fit\n",
    "import numpy as np"
   ]
  },
  {
   "cell_type": "code",
   "execution_count": 37,
   "metadata": {},
   "outputs": [],
   "source": [
    "# Functions\n",
    "\n",
    "# getting the tokens from a given file.\n",
    "def getTokens(filename):\n",
    "    # reading the file and using word_tokenize\n",
    "    f = open(filename, 'r', encoding=\"utf8\")\n",
    "    raw = f.read()\n",
    "    f.close()\n",
    "    return word_tokenize(raw)\n",
    "\n",
    "def rmPunctLowerCase(tokens):\n",
    "    return [token.lower() for token in tokens if token.isalpha()]\n",
    "\n",
    "def getTypes(tokens):\n",
    "    return list(set(tokens))\n",
    "\n",
    "# using this function we get a list of tuples (word, freq) with sorting as ranks.\n",
    "def getSortedFreq(tokens):\n",
    "    # getting freq of each word\n",
    "    fdist = FreqDist(tokens)\n",
    "    return sorted(fdist.items(), key=lambda kv: kv[1], reverse=True)\n",
    "\n",
    "def plotZipfRankFreq(freq):\n",
    "    plt.scatter(range(1, len(freq) + 1), [int(word[1]) for word in freq], label = \"Freq vs rank\")\n",
    "    plt.xlabel('Rank', fontsize=18)\n",
    "    plt.ylabel('Frequency', fontsize=18)\n",
    "    \n",
    "def plotZipfRankLength(freq):\n",
    "    plt.plot([len(word[0]) for word in freq], [int(word[1]) for word in freq], label = \"freq vs Length\")\n",
    "    plt.xlabel('Length', fontsize=18)\n",
    "    plt.ylabel('Frequency', fontsize=18)\n",
    "\n",
    "def GetDataHeapsLaw(filename):\n",
    "    f = open(filename, 'r', encoding=\"utf8\")\n",
    "    raw = f.readlines()\n",
    "    f.close()\n",
    "    tokens = []\n",
    "    no_clean_tokens = []\n",
    "    no_vocab = []\n",
    "    for i in range (len(raw)):\n",
    "        tokens.extend(word_tokenize(raw[i]))        \n",
    "        clean_tokens = rmPunctLowerCase(tokens)\n",
    "        no_clean_tokens.append(len(clean_tokens))\n",
    "        no_vocab.append(len(set(clean_tokens)))\n",
    "    return [no_clean_tokens, no_vocab]\n",
    "\n",
    "def plotData(data, l):\n",
    "    plt.scatter(data[0], data[1], label = l)\n",
    "    plt.xlabel('Token #', fontsize=18)\n",
    "    plt.ylabel('Vocab #', fontsize=18)\n",
    "\n",
    "def expression(tokens, k, beta):\n",
    "    return k * (tokens ** beta)\n",
    "\n",
    "def fitAndPlot(data, string):\n",
    "    params = curve_fit(expression, data[0], data[1])\n",
    "    plt.plot(data[0], expression(data[0], params[0][0], params[0][1]), label = string, color=\"orange\")\n",
    "    print (params[0][0])\n",
    "    plt.legend()\n",
    "    plt.xlabel('Token #', fontsize=18)\n",
    "    plt.ylabel('Vocab #', fontsize=18)\n",
    "\n",
    "# def "
   ]
  },
  {
   "cell_type": "code",
   "execution_count": 38,
   "metadata": {},
   "outputs": [],
   "source": [
    "# Part 1 (TTR ratio)"
   ]
  },
  {
   "cell_type": "code",
   "execution_count": 39,
   "metadata": {},
   "outputs": [
    {
     "name": "stdout",
     "output_type": "stream",
     "text": [
      "Raw tokens #: 87867\n",
      "Cleaned tokens #: 69860\n",
      "types #: 7026\n",
      "TTR ratio: 0.1005725737188663\n"
     ]
    }
   ],
   "source": [
    "# finding the tokens\n",
    "file = '../books/tom_sawyer.txt'\n",
    "tokens = getTokens(file)\n",
    "print (\"Raw tokens #:\", len(tokens))\n",
    "\n",
    "# removing the tokens that are not alpha_numeric, lowering the case\n",
    "clean_tokens = rmPunctLowerCase(tokens)\n",
    "print (\"Cleaned tokens #:\", len(clean_tokens))\n",
    "\n",
    "# finding the types\n",
    "types = getTypes(clean_tokens)\n",
    "print (\"types #:\", len(types))\n",
    "\n",
    "# the ttr ratio comes out to be\n",
    "print (\"TTR ratio:\", len(types)/len(clean_tokens))"
   ]
  },
  {
   "cell_type": "code",
   "execution_count": 40,
   "metadata": {},
   "outputs": [],
   "source": [
    "# Part 2 (Zipf's Laws)"
   ]
  },
  {
   "cell_type": "code",
   "execution_count": 41,
   "metadata": {},
   "outputs": [
    {
     "data": {
      "image/png": "[encoded data removed]",
      "text/plain": [
       "<Figure size 432x288 with 1 Axes>"
      ]
     },
     "metadata": {},
     "output_type": "display_data"
    }
   ],
   "source": [
    "# getting ranks and frequencies.\n",
    "freq = getSortedFreq(clean_tokens)\n",
    "# plots the product of ranks and frequncies\n",
    "plotZipfRankFreq(freq)"
   ]
  },
  {
   "cell_type": "code",
   "execution_count": 42,
   "metadata": {},
   "outputs": [
    {
     "data": {
      "image/png": "[encoded data removed]",
      "text/plain": [
       "<Figure size 432x288 with 1 Axes>"
      ]
     },
     "metadata": {},
     "output_type": "display_data"
    }
   ],
   "source": [
    "# plotting zipf's law for relation b/w freq and length\n",
    "plotZipfRankLength(freq)"
   ]
  },
  {
   "cell_type": "code",
   "execution_count": 43,
   "metadata": {},
   "outputs": [],
   "source": [
    "# plotting zipf's law for relation b/w freq and meaning\n",
    "# not sure how to match meanings."
   ]
  },
  {
   "cell_type": "code",
   "execution_count": null,
   "metadata": {},
   "outputs": [],
   "source": [
    "# Part 3 (Heap's Law)"
   ]
  },
  {
   "cell_type": "code",
   "execution_count": 44,
   "metadata": {},
   "outputs": [],
   "source": [
    "# plotting heap's law and fitted curve\n",
    "fitting_data = GetDataHeapsLaw('../books/tom_sawyer.txt')"
   ]
  },
  {
   "cell_type": "code",
   "execution_count": 47,
   "metadata": {},
   "outputs": [
    {
     "name": "stdout",
     "output_type": "stream",
     "text": [
      "13.71477011350653\n"
     ]
    },
    {
     "data": {
      "image/png": "[encoded data removed]",
      "text/plain": [
       "<Figure size 432x288 with 1 Axes>"
      ]
     },
     "metadata": {},
     "output_type": "display_data"
    }
   ],
   "source": [
    "plotData(fitting_data, \"tokens vs vocab (through data)\")\n",
    "fitAndPlot(fitting_data, \"Fitted Curve\")"
   ]
  },
  {
   "cell_type": "code",
   "execution_count": null,
   "metadata": {},
   "outputs": [],
   "source": []
  },
  {
   "cell_type": "code",
   "execution_count": null,
   "metadata": {},
   "outputs": [],
   "source": []
  }
 ],
 "metadata": {
  "kernelspec": {
   "display_name": "Python 3",
   "language": "python",
   "name": "python3"
  },
  "language_info": {
   "codemirror_mode": {
    "name": "ipython",
    "version": 3
   },
   "file_extension": ".py",
   "mimetype": "text/x-python",
   "name": "python",
   "nbconvert_exporter": "python",
   "pygments_lexer": "ipython3",
   "version": "3.7.0"
  }
 },
 "nbformat": 4,
 "nbformat_minor": 2
}
