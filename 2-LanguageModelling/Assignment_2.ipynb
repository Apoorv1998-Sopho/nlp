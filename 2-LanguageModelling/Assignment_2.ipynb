{
 "cells": [
  {
   "cell_type": "markdown",
   "metadata": {},
   "source": [
    "# Question 1, 2"
   ]
  },
  {
   "cell_type": "code",
   "execution_count": 1,
   "metadata": {},
   "outputs": [
    {
     "name": "stderr",
     "output_type": "stream",
     "text": [
      "D:\\Users\\apoor\\Miniconda3\\envs\\nlp\\lib\\site-packages\\sklearn\\utils\\__init__.py:4: DeprecationWarning: Using or importing the ABCs from 'collections' instead of from 'collections.abc' is deprecated, and in 3.8 it will stop working\n",
      "  from collections import Sequence\n"
     ]
    },
    {
     "name": "stdout",
     "output_type": "stream",
     "text": [
      "[nltk_data] Downloading package punkt to\n",
      "[nltk_data]     C:\\Users\\apoor\\AppData\\Roaming\\nltk_data...\n",
      "[nltk_data]   Package punkt is already up-to-date!\n"
     ]
    }
   ],
   "source": [
    "#imports\n",
    "import nltk\n",
    "from sklearn.model_selection import train_test_split\n",
    "\n",
    "# custom functions\n",
    "from helper import *"
   ]
  },
  {
   "cell_type": "code",
   "execution_count": 2,
   "metadata": {},
   "outputs": [],
   "source": [
    "filename = \"../books/alice_adventure_new_lines_reduced.txt\"\n",
    "sentences = getSents(filename)"
   ]
  },
  {
   "cell_type": "code",
   "execution_count": 4,
   "metadata": {},
   "outputs": [],
   "source": [
    "# lower case words, and remove punctuations.\n",
    "normalizedSentences = lowerPunct(sentences)\n",
    "\n",
    "# add Start stop symbols\n",
    "finalSentences = addStartStop(normalizedSentences)\n",
    "\n",
    "# divide the corpus into test and train\n",
    "test, train = train_test_split(sentences,\\\n",
    "                               test_size=0.2,\\\n",
    "                               random_state=42)"
   ]
  },
  {
   "cell_type": "markdown",
   "metadata": {},
   "source": [
    "----"
   ]
  },
  {
   "cell_type": "markdown",
   "metadata": {},
   "source": [
    "# Question 3"
   ]
  },
  {
   "cell_type": "code",
   "execution_count": null,
   "metadata": {},
   "outputs": [],
   "source": []
  },
  {
   "cell_type": "markdown",
   "metadata": {},
   "source": [
    "----"
   ]
  },
  {
   "cell_type": "markdown",
   "metadata": {},
   "source": [
    "# Question 4"
   ]
  },
  {
   "cell_type": "code",
   "execution_count": 5,
   "metadata": {},
   "outputs": [
    {
     "data": {
      "text/plain": [
       "['Some of the birds hurried off at once: one old Magpie began wrapping itself up very carefully, remarking, ‘I really must be getting home; the night-air doesn’t suit my throat!’ and a Canary called out in a trembling voice to its children, ‘Come away, my dears!',\n",
       " '‘Who’s making personal remarks now?’ the Hatter asked triumphantly.',\n",
       " '‘Of course,’ the Dodo replied very gravely.',\n",
       " '‘“What matters it how far we go?” his scaly friend replied.',\n",
       " 'I’m sure _I_ shan’t be able!',\n",
       " '‘It was the BEST butter,’ the March Hare meekly replied.',\n",
       " '‘What fun!’ said the Gryphon, half to itself, half to Alice.',\n",
       " 'However, he consented to go on.',\n",
       " '‘Nothing whatever,’ said Alice.',\n",
       " '‘Found IT,’ the Mouse replied rather crossly: ‘of course you know what “it” means.’  ‘I know what “it” means well enough, when I find a thing,’ said the Duck: ‘it’s generally a frog or a worm.',\n",
       " '‘You’re a very poor speaker,’ said the King.',\n",
       " 'I shall be a great deal too far off to trouble myself about you: you must manage the best way you can;--but I must be kind to them,’ thought Alice, ‘or perhaps they won’t walk the way I want to go!',\n",
       " '‘Suppose we change the subject,’ the March Hare interrupted, yawning.',\n",
       " 'Still she went on growing, and, as a last resource, she put one arm out of the window, and one foot up the chimney, and said to herself ‘Now I can do no more, whatever happens.',\n",
       " '‘I’m getting tired of this.',\n",
       " '‘IF I don’t take this child away with me,’ thought Alice, ‘they’re sure to kill it in a day or two: wouldn’t it be murder to leave it behind?’ She said the last words out loud, and the little thing grunted in reply (it had left off sneezing by this time).',\n",
       " '‘You ought to be ashamed of yourself,’ said Alice, ‘a great girl like you,’ (she might well say this), ‘to go on crying in this way!',\n",
       " '‘I mean, what makes them so shiny?’  Alice looked down at them, and considered a little before she gave her answer.',\n",
       " 'I’m a hatter.’  Here the Queen put on her spectacles, and began staring at the Hatter, who turned pale and fidgeted.',\n",
       " 'Let me see--how IS it to be managed?',\n",
       " 'I almost think I can remember feeling a little different.',\n",
       " 'I shall never get to twenty at that rate!',\n",
       " 'ALL PERSONS MORE THAN A MILE HIGH TO LEAVE THE COURT.’  Everybody looked at Alice.',\n",
       " '‘Well, perhaps your feelings may be different,’ said Alice; ‘all I know is, it would feel very queer to ME.’  ‘You!’ said the Caterpillar contemptuously.',\n",
       " '‘If you’re going to turn into a pig, my dear,’ said Alice, seriously, ‘I’ll have nothing more to do with you.',\n",
       " '‘Why, what are YOUR shoes done with?’ said the Gryphon.',\n",
       " 'Will you, won’t you, will you, won’t you, won’t you join the dance?',\n",
       " 'He came in with a teacup in one hand and a piece of bread-and-butter in the other.',\n",
       " 'WHAT are you?’ said the Pigeon.',\n",
       " 'I think that will be the best plan.’  It sounded an excellent plan, no doubt, and very neatly and simply arranged; the only difficulty was, that she had not the smallest idea how to set about it; and while she was peering about anxiously among the trees, a little sharp bark just over her head made her look up in a great hurry.',\n",
       " 'Do you think you could manage it?)',\n",
       " 'I wish you were down here with me!',\n",
       " '‘Is that the reason so many tea-things are put out here?’ she asked.',\n",
       " 'Mary Ann!’ said the voice.',\n",
       " '‘Exactly so,’ said Alice.',\n",
       " 'You see, she came rather late, and the Queen said--’  ‘Get to your places!’ shouted the Queen in a voice of thunder, and people began running about in all directions, tumbling up against each other; however, they got settled down in a minute or two, and the game began.',\n",
       " '‘It’s a pun!’ the King added in an offended tone, and everybody laughed, ‘Let the jury consider their verdict,’ the King said, for about the twentieth time that day.',\n",
       " '‘Treacle,’ said a sleepy voice behind her.',\n",
       " 'This piece of rudeness was more than Alice could bear: she got up in great disgust, and walked off; the Dormouse fell asleep instantly, and neither of the others took the least notice of her going, though she looked back once or twice, half hoping that they would call after her: the last time she saw them, they were trying to put the Dormouse into the teapot.',\n",
       " 'The Mock Turtle went on.',\n",
       " 'CHAPTER V. Advice from a Caterpillar  The Caterpillar and Alice looked at each other for some time in silence: at last the Caterpillar took the hookah out of its mouth, and addressed her in a languid, sleepy voice.',\n",
       " 'She stretched herself up on tiptoe, and peeped over the edge of the mushroom, and her eyes immediately met those of a large caterpillar, that was sitting on the top with its arms folded, quietly smoking a long hookah, and taking not the smallest notice of her or of anything else.',\n",
       " 'Tell us all about it!’  Last came a little feeble, squeaking voice, [‘That’s Bill,’ thought Alice,) ‘Well, I hardly know--No more, thank ye; I’m better now--but I’m a deal too flustered to tell you--all I know is, something comes at me like a Jack-in-the-box, and up I goes like a sky-rocket!’  ‘So you did, old fellow!’ said the others.',\n",
       " 'Very soon the Rabbit noticed Alice, as she went hunting about, and called out to her in an angry tone, ‘Why, Mary Ann, what ARE you doing out here?',\n",
       " '‘Reeling and Writhing, of course, to begin with,’ the Mock Turtle replied; ‘and then the different branches of Arithmetic--Ambition, Distraction, Uglification, and Derision.’  ‘I never heard of “Uglification,”’ Alice ventured to say.',\n",
       " 'The Dormouse had closed its eyes by this time, and was going off into a doze; but, on being pinched by the Hatter, it woke up again with a little shriek, and went on: ‘--that begins with an M, such as mouse-traps, and the moon, and memory, and muchness--you know you say things are “much of a muchness”--did you ever see such a thing as a drawing of a muchness?’  ‘Really, now you ask me,’ said Alice, very much confused, ‘I don’t think--’  ‘Then you shouldn’t talk,’ said the Hatter.',\n",
       " 'Go on!’  ‘I’m a poor man,’ the Hatter went on, ‘and most things twinkled after that--only the March Hare said--’  ‘I didn’t!’ the March Hare interrupted in a great hurry.',\n",
       " '‘Would it be of any use, now,’ thought Alice, ‘to speak to this mouse?',\n",
       " '‘How should I know?’ said Alice, surprised at her own courage.',\n",
       " '‘What CAN all that green stuff be?’ said Alice.',\n",
       " '‘He denies it,’ said the King: ‘leave out that part.’  ‘Well, at any rate, the Dormouse said--’ the Hatter went on, looking anxiously round to see if he would deny it too: but the Dormouse denied nothing, being fast asleep.',\n",
       " '‘You make me giddy.’ And then, turning to the rose-tree, she went on, ‘What HAVE you been doing here?’  ‘May it please your Majesty,’ said Two, in a very humble tone, going down on one knee as he spoke, ‘we were trying--’  ‘I see!’ said the Queen, who had meanwhile been examining the roses.',\n",
       " 'There were doors all round the hall, but they were all locked; and when Alice had been all the way down one side and up the other, trying every door, she walked sadly down the middle, wondering how she was ever to get out again.',\n",
       " 'The adventures first,’ said the Gryphon in an impatient tone: ‘explanations take such a dreadful time.’  So Alice began telling them her adventures from the time when she first saw the White Rabbit.',\n",
       " 'Here was another puzzling question; and as Alice could not think of any good reason, and as the Caterpillar seemed to be in a VERY unpleasant state of mind, she turned away.',\n",
       " '‘Keep your temper,’ said the Caterpillar.',\n",
       " '‘I’ve forgotten the words.’  So they began solemnly dancing round and round Alice, every now and then treading on her toes when they passed too close, and waving their forepaws to mark the time, while the Mock Turtle sang this, very slowly and sadly:--   ‘“Will you walk a little faster?” said a whiting to a snail.',\n",
       " '‘Well, I’ll eat it,’ said Alice, ‘and if it makes me grow larger, I can reach the key; and if it makes me grow smaller, I can creep under the door; so either way I’ll get into the garden, and I don’t care which happens!’  She ate a little bit, and said anxiously to herself, ‘Which way?',\n",
       " '‘Never mind!’ said the King, with an air of great relief.',\n",
       " 'This seemed to Alice a good opportunity for making her escape; so she set off at once, and ran till she was quite tired and out of breath, and till the puppy’s bark sounded quite faint in the distance.',\n",
       " 'I’ll set Dinah at you!’  There was a dead silence instantly, and Alice thought to herself, ‘I wonder what they WILL do next!',\n",
       " 'Oh my dear paws!',\n",
       " '‘You don’t know much,’ said the Duchess; ‘and that’s a fact.’  Alice did not at all like the tone of this remark, and thought it would be as well to introduce some other subject of conversation.',\n",
       " 'Alice sighed wearily.',\n",
       " 'Then followed the Knave of Hearts, carrying the King’s crown on a crimson velvet cushion; and, last of all this grand procession, came THE KING AND QUEEN OF HEARTS.',\n",
       " 'She did it so quickly that the poor little juror (it was Bill, the Lizard) could not make out at all what had become of it; so, after hunting all about for it, he was obliged to write with one finger for the rest of the day; and this was of very little use, as it left no mark on the slate.',\n",
       " 'See how eagerly the lobsters and the turtles all advance!',\n",
       " 'And how odd the directions will look!',\n",
       " 'A little bright-eyed terrier, you know, with oh, such long curly brown hair!',\n",
       " '‘Why, there they are!’ said the King triumphantly, pointing to the tarts on the table.',\n",
       " 'She had just succeeded in curving it down into a graceful zigzag, and was going to dive in among the leaves, which she found to be nothing but the tops of the trees under which she had been wandering, when a sharp hiss made her draw back in a hurry: a large pigeon had flown into her face, and was beating her violently with its wings.',\n",
       " '‘You did,’ said the Mock Turtle.',\n",
       " 'She had already heard her sentence three of the players to be executed for having missed their turns, and she did not like the look of things at all, as the game was in such confusion that she never knew whether it was her turn or not.',\n",
       " 'Next came the guests, mostly Kings and Queens, and among them Alice recognised the White Rabbit: it was talking in a hurried nervous manner, smiling at everything that was said, and went by without noticing her.',\n",
       " '‘I’M not a mile high,’ said Alice.',\n",
       " 'The Pool of Tears  ‘Curiouser and curiouser!’ cried Alice (she was so much surprised, that for the moment she quite forgot how to speak good English); ‘now I’m opening out like the largest telescope that ever was!',\n",
       " 'When the pie was all finished, the Owl, as a boon,   Was kindly permitted to pocket the spoon:   While the Panther received knife and fork with a growl,   And concluded the banquet--]  ‘What IS the use of repeating all that stuff,’ the Mock Turtle interrupted, ‘if you don’t explain it as you go on?',\n",
       " '‘--or next day, maybe,’ the Footman continued in the same tone, exactly as if nothing had happened.',\n",
       " 'I needn’t be afraid of them!’  ‘And who are THESE?’ said the Queen, pointing to the three gardeners who were lying round the rosetree; for, you see, as they were lying on their faces, and the pattern on their backs was the same as the rest of the pack, she could not tell whether they were gardeners, or soldiers, or courtiers, or three of her own children.',\n",
       " 'But I’d better take him his fan and gloves--that is, if I can find them.’ As she said this, she came upon a neat little house, on the door of which was a bright brass plate with the name ‘W.',\n",
       " 'I’m mad.',\n",
       " '‘Not at all,’ said Alice: ‘she’s so extremely--’ Just then she noticed that the Queen was close behind her, listening: so she went on, ‘--likely to win, that it’s hardly worth while finishing the game.’  The Queen smiled and passed on.',\n",
       " 'After a while she remembered that she still held the pieces of mushroom in her hands, and she set to work very carefully, nibbling first at one and then at the other, and growing sometimes taller and sometimes shorter, until she had succeeded in bringing herself down to her usual height.',\n",
       " 'Tell her to begin.’ He looked at the Gryphon as if he thought it had some kind of authority over Alice.',\n",
       " '‘They have their tails in their mouths--and they’re all over crumbs.’  ‘You’re wrong about the crumbs,’ said the Mock Turtle: ‘crumbs would all wash off in the sea.',\n",
       " 'I’ve often seen a cat without a grin,’ thought Alice; ‘but a grin without a cat!',\n",
       " '‘Thinking again?’ the Duchess asked, with another dig of her sharp little chin.',\n",
       " 'No, there were no tears.',\n",
       " 'I wonder if I’ve been changed in the night?',\n",
       " 'This time Alice waited patiently until it chose to speak again.',\n",
       " 'The Cat only grinned when it saw Alice.',\n",
       " 'The other side of WHAT?’ thought Alice to herself.',\n",
       " '‘How CAN I have done that?’ she thought.',\n",
       " 'But her sister sat still just as she left her, leaning her head on her hand, watching the setting sun, and thinking of little Alice and all her wonderful Adventures, till she too began dreaming after a fashion, and this was her dream:--  First, she dreamed of little Alice herself, and once again the tiny hands were clasped upon her knee, and the bright eager eyes were looking up into hers--she could hear the very tones of her voice, and see that queer little toss of her head to keep back the wandering hair that WOULD always get into her eyes--and still as she listened, or seemed to listen, the whole place around her became alive with the strange creatures of her little sister’s dream.',\n",
       " '‘What a number of cucumber-frames there must be!’ thought Alice.',\n",
       " '‘Well, I never heard it before,’ said the Mock Turtle; ‘but it sounds uncommon nonsense.’  Alice said nothing; she had sat down with her face in her hands, wondering if anything would EVER happen in a natural way again.',\n",
       " '‘As if it wasn’t trouble enough hatching the eggs,’ said the Pigeon; ‘but I must be on the look-out for serpents night and day!',\n",
       " '‘I said pig,’ replied Alice; ‘and I wish you wouldn’t keep appearing and vanishing so suddenly: you make one quite giddy.’  ‘All right,’ said the Cat; and this time it vanished quite slowly, beginning with the end of the tail, and ending with the grin, which remained some time after the rest of it had gone.',\n",
       " '‘Yes, that’s it,’ said the Hatter with a sigh: ‘it’s always tea-time, and we’ve no time to wash the things between whiles.’  ‘Then you keep moving round, I suppose?’ said Alice.',\n",
       " '‘I must go and get ready to play croquet with the Queen,’ and she hurried out of the room.',\n",
       " 'Alice waited till the eyes appeared, and then nodded.',\n",
       " 'You’re a serpent; and there’s no use denying it.',\n",
       " '‘She can’t explain it,’ said the Gryphon hastily.',\n",
       " 'In the very middle of the court was a table, with a large dish of tarts upon it: they looked so good, that it made Alice quite hungry to look at them--‘I wish they’d get the trial done,’ she thought, ‘and hand round the refreshments!’ But there seemed to be no chance of this, so she began looking at everything about her, to pass away the time.',\n",
       " '‘You should learn not to make personal remarks,’ Alice said with some severity; ‘it’s very rude.’  The Hatter opened his eyes very wide on hearing this; but all he SAID was, ‘Why is a raven like a writing-desk?’  ‘Come, we shall have some fun now!’ thought Alice.',\n",
       " '‘Come on, then!’ roared the Queen, and Alice joined the procession, wondering very much what would happen next.',\n",
       " 'when she got to the door, she found she had forgotten the little golden key, and when she went back to the table for it, she found she could not possibly reach it: she could see it quite plainly through the glass, and she tried her best to climb up one of the legs of the table, but it was too slippery; and when she had tired herself out with trying, the poor little thing sat down and cried.',\n",
       " 'they’ll do well enough; don’t be particular--Here, Bill!',\n",
       " 'Alice looked all round her at the flowers and the blades of grass, but she did not see anything that looked like the right thing to eat or drink under the circumstances.',\n",
       " 'Now you know.’  ‘And what are they made of?’ Alice asked in a tone of great curiosity.',\n",
       " 'HEARTHRUG,          NEAR THE FENDER,            (WITH ALICE’S LOVE).',\n",
       " 'There ought to be a book written about me, that there ought!',\n",
       " 'How she longed to get out of that dark hall, and wander about among those beds of bright flowers and those cool fountains, but she could not even get her head through the doorway; ‘and even if my head would go through,’ thought poor Alice, ‘it would be of very little use without my shoulders.',\n",
       " '‘I think you might do something better with the time,’ she said, ‘than waste it in asking riddles that have no answers.’  ‘If you knew Time as well as I do,’ said the Hatter, ‘you wouldn’t talk about wasting IT.',\n",
       " 'Oh my fur and whiskers!',\n",
       " 'Alice gave a little scream of laughter.',\n",
       " '‘It tells the day of the month, and doesn’t tell what o’clock it is!’  ‘Why should it?’ muttered the Hatter.',\n",
       " '‘Come, it’s pleased so far,’ thought Alice, and she went on.',\n",
       " '‘Idiot!’ said the Queen, tossing her head impatiently; and, turning to Alice, she went on, ‘What’s your name, child?’  ‘My name is Alice, so please your Majesty,’ said Alice very politely; but she added, to herself, ‘Why, they’re only a pack of cards, after all.',\n",
       " 'And the Gryphon never learnt it.’  ‘Hadn’t time,’ said the Gryphon: ‘I went to the Classics master, though.',\n",
       " 'Oh dear!',\n",
       " '‘I only took the regular course.’  ‘What was that?’ inquired Alice.',\n",
       " 'Shall I try the experiment?’  ‘HE might bite,’ Alice cautiously replied, not feeling at all anxious to have the experiment tried.',\n",
       " 'Then it got down off the mushroom, and crawled away in the grass, merely remarking as it went, ‘One side will make you grow taller, and the other side will make you grow shorter.’  ‘One side of WHAT?',\n",
       " '‘Would you like to see a little of it?’ said the Mock Turtle.',\n",
       " '‘A cat may look at a king,’ said Alice.',\n",
       " '‘Come back!’ the Caterpillar called after her.',\n",
       " 'However, I’ve got back to my right size: the next thing is, to get into that beautiful garden--how IS that to be done, I wonder?’ As she said this, she came suddenly upon an open place, with a little house in it about four feet high.',\n",
       " 'Alice was very nearly getting up and saying, ‘Thank you, sir, for your interesting story,’ but she could not help thinking there MUST be more to come, so she sat still and said nothing.',\n",
       " '‘Here!',\n",
       " 'At this moment the King, who had been for some time busily writing in his note-book, cackled out ‘Silence!’ and read out from his book, ‘Rule Forty-two.',\n",
       " '‘Very true,’ said the Duchess: ‘flamingoes and mustard both bite.',\n",
       " 'Alice noticed with some surprise that the pebbles were all turning into little cakes as they lay on the floor, and a bright idea came into her head.',\n",
       " 'Which way?’, holding her hand on the top of her head to feel which way it was growing, and she was quite surprised to find that she remained the same size: to be sure, this generally happens when one eats cake, but Alice had got so much into the way of expecting nothing but out-of-the-way things to happen, that it seemed quite dull and stupid for life to go on in the common way.',\n",
       " '‘What sort of people live about here?’  ‘In THAT direction,’ the Cat said, waving its right paw round, ‘lives a Hatter: and in THAT direction,’ waving the other paw, ‘lives a March Hare.',\n",
       " 'Alice was just beginning to think to herself, ‘Now, what am I to do with this creature when I get it home?’ when it grunted again, so violently, that she looked down into its face in some alarm.',\n",
       " 'Some of the jury wrote it down ‘important,’ and some ‘unimportant.’ Alice could see this, as she was near enough to look over their slates; ‘but it doesn’t matter a bit,’ she thought to herself.',\n",
       " 'So she called softly after it, ‘Mouse dear!',\n",
       " 'There was a sound of many footsteps, and Alice looked round, eager to see the Queen.',\n",
       " 'Alice began to feel very uneasy: to be sure, she had not as yet had any dispute with the Queen, but she knew that it might happen any minute, ‘and then,’ thought she, ‘what would become of me?',\n",
       " '‘If I eat one of these cakes,’ she thought, ‘it’s sure to make SOME change in my size; and as it can’t possibly make me larger, it must make me smaller, I suppose.’  So she swallowed one of the cakes, and was delighted to find that she began shrinking directly.',\n",
       " '‘I don’t think they play at all fairly,’ Alice began, in rather a complaining tone, ‘and they all quarrel so dreadfully one can’t hear oneself speak--and they don’t seem to have any rules in particular; at least, if there are, nobody attends to them--and you’ve no idea how confusing it is all the things being alive; for instance, there’s the arch I’ve got to go through next walking about at the other end of the ground--and I should have croqueted the Queen’s hedgehog just now, only it ran away when it saw mine coming!’  ‘How do you like the Queen?’ said the Cat in a low voice.',\n",
       " 'Pennyworth only of beautiful Soup?',\n",
       " 'That’s all.’  ‘Thank you,’ said Alice, ‘it’s very interesting.',\n",
       " 'the little door was shut again, and the little golden key was lying on the glass table as before, ‘and things are worse than ever,’ thought the poor child, ‘for I never was so small as this before, never!',\n",
       " 'So she sat on, with closed eyes, and half believed herself in Wonderland, though she knew she had but to open them again, and all would change to dull reality--the grass would be only rustling in the wind, and the pool rippling to the waving of the reeds--the rattling teacups would change to tinkling sheep-bells, and the Queen’s shrill cries to the voice of the shepherd boy--and the sneeze of the baby, the shriek of the Gryphon, and all the other queer noises, would change (she knew) to the confused clamour of the busy farm-yard--while the lowing of the cattle in the distance would take the place of the Mock Turtle’s heavy sobs.',\n",
       " '“--SAID I COULD NOT SWIM--” you can’t swim, can you?’ he added, turning to the Knave.',\n",
       " 'Alice folded her hands, and began:--     ‘You are old, Father William,’ the young man said,     ‘And your hair has become very white;    And yet you incessantly stand on your head--     Do you think, at your age, it is right?’     ‘In my youth,’ Father William replied to his son,     ‘I feared it might injure the brain;    But, now that I’m perfectly sure I have none,     Why, I do it again and again.’     ‘You are old,’ said the youth, ‘as I mentioned before,     And have grown most uncommonly fat;    Yet you turned a back-somersault in at the door--     Pray, what is the reason of that?’     ‘In my youth,’ said the sage, as he shook his grey locks,     ‘I kept all my limbs very supple    By the use of this ointment--one shilling the box--     Allow me to sell you a couple?’     ‘You are old,’ said the youth, ‘and your jaws are too weak     For anything tougher than suet;    Yet you finished the goose, with the bones and the beak--     Pray how did you manage to do it?’     ‘In my youth,’ said his father, ‘I took to the law,     And argued each case with my wife;    And the muscular strength, which it gave to my jaw,     Has lasted the rest of my life.’     ‘You are old,’ said the youth, ‘one would hardly suppose     That your eye was as steady as ever;    Yet you balanced an eel on the end of your nose--     What made you so awfully clever?’     ‘I have answered three questions, and that is enough,’     Said his father; ‘don’t give yourself airs!',\n",
       " 'For instance, suppose it were nine o’clock in the morning, just time to begin lessons: you’d only have to whisper a hint to Time, and round goes the clock in a twinkling!',\n",
       " '‘Give your evidence,’ said the King.',\n",
       " 'Why, she’ll eat a little bird as soon as look at it!’  This speech caused a remarkable sensation among the party.',\n",
       " 'Alice went timidly up to the door, and knocked.',\n",
       " '‘Come, that finished the guinea-pigs!’ thought Alice.',\n",
       " '‘No, I didn’t,’ said Alice: ‘I don’t think it’s at all a pity.',\n",
       " 'It’s the most curious thing I ever saw in my life!’  She had not gone much farther before she came in sight of the house of the March Hare: she thought it must be the right house, because the chimneys were shaped like ears and the roof was thatched with fur.',\n",
       " 'You see the earth takes twenty-four hours to turn round on its axis--’  ‘Talking of axes,’ said the Duchess, ‘chop off her head!’  Alice glanced rather anxiously at the cook, to see if she meant to take the hint; but the cook was busily stirring the soup, and seemed not to be listening, so she went on again: ‘Twenty-four hours, I THINK; or is it twelve?',\n",
       " 'And it’ll fetch things when you throw them, and it’ll sit up and beg for its dinner, and all sorts of things--I can’t remember half of them--and it belongs to a farmer, you know, and he says it’s so useful, it’s worth a hundred pounds!',\n",
       " '‘Do you mean that you think you can find out the answer to it?’ said the March Hare.',\n",
       " 'And oh, my poor hands, how is it I can’t see you?’ She was moving them about as she spoke, but no result seemed to follow, except a little shaking among the distant green leaves.',\n",
       " '‘It IS a long tail, certainly,’ said Alice, looking down with wonder at the Mouse’s tail; ‘but why do you call it sad?’ And she kept on puzzling about it while the Mouse was speaking, so that her idea of the tale was something like this:--           ‘Fury said to a          mouse, That he         met in the        house,      “Let us       both go to        law: I will         prosecute          YOU.--Come,            I’ll take no            denial; We           must have a         trial: For       really this      morning I’ve     nothing     to do.”       Said the       mouse to the        cur, “Such         a trial,          dear Sir,             With           no jury         or judge,        would be       wasting       our       breath.”         “I’ll be         judge, I’ll          be jury,”              Said          cunning           old Fury:           “I’ll           try the             whole             cause,               and            condemn            you           to            death.”’   ‘You are not attending!’ said the Mouse to Alice severely.',\n",
       " '‘That’s the reason they’re called lessons,’ the Gryphon remarked: ‘because they lessen from day to day.’  This was quite a new idea to Alice, and she thought it over a little before she made her next remark.',\n",
       " 'It’s by far the most confusing thing I ever heard!’  ‘Yes, I think you’d better leave off,’ said the Gryphon: and Alice was only too glad to do so.',\n",
       " 'Alice did not quite know what to say to this: so she helped herself to some tea and bread-and-butter, and then turned to the Dormouse, and repeated her question.',\n",
       " 'However, when they had been running half an hour or so, and were quite dry again, the Dodo suddenly called out ‘The race is over!’ and they all crowded round it, panting, and asking, ‘But who has won?’  This question the Dodo could not answer without a great deal of thought, and it sat for a long time with one finger pressed upon its forehead (the position in which you usually see Shakespeare, in the pictures of him), while the rest waited in silence.',\n",
       " '‘I’ve tried the roots of trees, and I’ve tried banks, and I’ve tried hedges,’ the Pigeon went on, without attending to her; ‘but those serpents!',\n",
       " 'Now I growl when I’m pleased, and wag my tail when I’m angry.',\n",
       " '‘Well, I should like to be a LITTLE larger, sir, if you wouldn’t mind,’ said Alice: ‘three inches is such a wretched height to be.’  ‘It is a very good height indeed!’ said the Caterpillar angrily, rearing itself upright as it spoke (it was exactly three inches high).',\n",
       " 'After a time she heard a little pattering of feet in the distance, and she hastily dried her eyes to see what was coming.',\n",
       " 'Dinah my dear!',\n",
       " '‘I wonder what they’ll do next!',\n",
       " '‘Come, let’s try the first figure!’ said the Mock Turtle to the Gryphon.',\n",
       " '(As that is rather a hard word, I will just explain to you how it was done.',\n",
       " '‘Don’t be impertinent,’ said the King, ‘and don’t look at me like that!’ He got behind Alice as he spoke.',\n",
       " '‘Why,’ said the Dodo, ‘the best way to explain it is to do it.’ (And, as you might like to try the thing yourself, some winter day, I will tell you how the Dodo managed it.)',\n",
       " '‘Treacle,’ said the Dormouse, without considering at all this time.',\n",
       " 'Lastly, she pictured to herself how this same little sister of hers would, in the after-time, be herself a grown woman; and how she would keep, through all her riper years, the simple and loving heart of her childhood: and how she would gather about her other little children, and make THEIR eyes bright and eager with many a strange tale, perhaps even with the dream of Wonderland of long ago: and how she would feel with all their simple sorrows, and find a pleasure in all their simple joys, remembering her own child-life, and the happy summer days.',\n",
       " '‘Oh, my poor little feet, I wonder who will put on your shoes and stockings for you now, dears?',\n",
       " 'Alice led the way, and the whole party swam to the shore.',\n",
       " 'The Knave shook his head sadly.',\n",
       " '‘Where shall I begin, please your Majesty?’ he asked.',\n",
       " '‘Certainly not!’ said Alice indignantly.',\n",
       " 'Alice was very glad to find her in such a pleasant temper, and thought to herself that perhaps it was only the pepper that had made her so savage when they met in the kitchen.',\n",
       " '‘Call the next witness.’ And he added in an undertone to the Queen, ‘Really, my dear, YOU must cross-examine the next witness.',\n",
       " '‘I’ve read that in some book, but I don’t remember where.’  ‘Well, it must be removed,’ said the King very decidedly, and he called the Queen, who was passing at the moment, ‘My dear!',\n",
       " 'It means much the same thing,’ said the Duchess, digging her sharp little chin into Alice’s shoulder as she added, ‘and the moral of THAT is--“Take care of the sense, and the sounds will take care of themselves.”’  ‘How fond she is of finding morals in things!’ Alice thought to herself.',\n",
       " 'Off with his whiskers!’  For some minutes the whole court was in confusion, getting the Dormouse turned out, and, by the time they had settled down again, the cook had disappeared.',\n",
       " 'While she was trying to fix on one, the cook took the cauldron of soup off the fire, and at once set to work throwing everything within her reach at the Duchess and the baby--the fire-irons came first; then followed a shower of saucepans, plates, and dishes.',\n",
       " '‘No, I’ll look first,’ she said, ‘and see whether it’s marked “poison” or not’; for she had read several nice little histories about children who had got burnt, and eaten up by wild beasts and other unpleasant things, all because they WOULD not remember the simple rules their friends had taught them: such as, that a red-hot poker will burn you if you hold it too long; and that if you cut your finger VERY deeply with a knife, it usually bleeds; and she had never forgotten that, if you drink much from a bottle marked ‘poison,’ it is almost certain to disagree with you, sooner or later.',\n",
       " 'Don’t be all day about it!’ and he went on in these words:  ‘Yes, we went to school in the sea, though you mayn’t believe it--’  ‘I never said I didn’t!’ interrupted Alice.',\n",
       " 'I suppose you’ll be telling me next that you never tasted an egg!’  ‘I HAVE tasted eggs, certainly,’ said Alice, who was a very truthful child; ‘but little girls eat eggs quite as much as serpents do, you know.’  ‘I don’t believe it,’ said the Pigeon; ‘but if they do, why then they’re a kind of serpent, that’s all I can say.’  This was such a new idea to Alice, that she was quite silent for a minute or two, which gave the Pigeon the opportunity of adding, ‘You’re looking for eggs, I know THAT well enough; and what does it matter to me whether you’re a little girl or a serpent?’  ‘It matters a good deal to ME,’ said Alice hastily; ‘but I’m not looking for eggs, as it happens; and if I was, I shouldn’t want YOURS: I don’t like them raw.’  ‘Well, be off, then!’ said the Pigeon in a sulky tone, as it settled down again into its nest.',\n",
       " 'The Hatter was the first to break the silence.',\n",
       " 'No, no!',\n",
       " '‘I’ve so often read in the newspapers, at the end of trials, “There was some attempts at applause, which was immediately suppressed by the officers of the court,” and I never understood what it meant till now.’  ‘If that’s all you know about it, you may stand down,’ continued the King.',\n",
       " 'Always lay the blame on others!’  ‘YOU’D better not talk!’ said Five.',\n",
       " '(The jury all brightened up again.)',\n",
       " '‘Wake up, Alice dear!’ said her sister; ‘Why, what a long sleep you’ve had!’  ‘Oh, I’ve had such a curious dream!’ said Alice, and she told her sister, as well as she could remember them, all these strange Adventures of hers that you have just been reading about; and when she had finished, her sister kissed her, and said, ‘It WAS a curious dream, dear, certainly: but now run in to your tea; it’s getting late.’ So Alice got up and ran off, thinking while she ran, as well she might, what a wonderful dream it had been.']"
      ]
     },
     "execution_count": 5,
     "metadata": {},
     "output_type": "execute_result"
    }
   ],
   "source": [
    "train"
   ]
  },
  {
   "cell_type": "code",
   "execution_count": null,
   "metadata": {},
   "outputs": [],
   "source": []
  }
 ],
 "metadata": {
  "kernelspec": {
   "display_name": "Python 3",
   "language": "python",
   "name": "python3"
  },
  "language_info": {
   "codemirror_mode": {
    "name": "ipython",
    "version": 3
   },
   "file_extension": ".py",
   "mimetype": "text/x-python",
   "name": "python",
   "nbconvert_exporter": "python",
   "pygments_lexer": "ipython3",
   "version": "3.7.0"
  }
 },
 "nbformat": 4,
 "nbformat_minor": 2
}
